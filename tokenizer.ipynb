{
 "cells": [
  {
   "cell_type": "code",
   "execution_count": 1,
   "metadata": {},
   "outputs": [
    {
     "name": "stderr",
     "output_type": "stream",
     "text": [
      "/home/kirp/miniconda3/lib/python3.11/site-packages/tqdm/auto.py:22: TqdmWarning: IProgress not found. Please update jupyter and ipywidgets. See https://ipywidgets.readthedocs.io/en/stable/user_install.html\n",
      "  from .autonotebook import tqdm as notebook_tqdm\n"
     ]
    }
   ],
   "source": [
    "# from transformers import AutoModelForCausalLM\n",
    "# import torch\n",
    "# m = AutoModelForCausalLM.from_pretrained(\"PY007/TinyLlama-1.1B-intermediate-step-240k-503B\",torch_dtype=torch.float16, device_map=\"auto\")\n",
    "from transformers import AutoTokenizer\n",
    "import torch\n",
    "# tokenizer = AutoTokenizer.from_pretrained(\"PY007/TinyLlama-1.1B-intermediate-step-240k-503B\")\n",
    "tokenizer = AutoTokenizer.from_pretrained(\"PY007/TinyLlama-1.1B-Chat-v0.2\")"
   ]
  },
  {
   "cell_type": "code",
   "execution_count": 9,
   "metadata": {},
   "outputs": [
    {
     "name": "stdout",
     "output_type": "stream",
     "text": [
      "32001 1792 13 5618 338 278 6593 310 2834 29973 29966 29989 326 29918 355 29989 29958 13 29966 29989 326 29918 2962 29989 29958 465 22137 13\n"
     ]
    }
   ],
   "source": [
    "prompt = \"What is the meaning of life?\"\n",
    "prompt = f\"<|im_start|>user\\n{prompt}<|im_end|>\\n<|im_start|>assistant\\n\" # \"What is the meaning of life?\"\n",
    "out = tokenizer.encode(prompt)\n",
    "out = out[1:]\n",
    "out_str = ' '.join(map(str, out))\n",
    "print(out_str)"
   ]
  },
  {
   "cell_type": "code",
   "execution_count": 13,
   "metadata": {},
   "outputs": [
    {
     "data": {
      "text/plain": [
       "[1, 32002]"
      ]
     },
     "execution_count": 13,
     "metadata": {},
     "output_type": "execute_result"
    }
   ],
   "source": [
    "tokenizer.encode('<|im_end|>')\n",
    "# tokenizer.decode(29876)"
   ]
  },
  {
   "cell_type": "code",
   "execution_count": null,
   "metadata": {},
   "outputs": [],
   "source": []
  }
 ],
 "metadata": {
  "kernelspec": {
   "display_name": "base",
   "language": "python",
   "name": "python3"
  },
  "language_info": {
   "codemirror_mode": {
    "name": "ipython",
    "version": 3
   },
   "file_extension": ".py",
   "mimetype": "text/x-python",
   "name": "python",
   "nbconvert_exporter": "python",
   "pygments_lexer": "ipython3",
   "version": "3.11.4"
  },
  "orig_nbformat": 4
 },
 "nbformat": 4,
 "nbformat_minor": 2
}
